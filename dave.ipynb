{
 "cells": [
  {
   "cell_type": "code",
   "execution_count": null,
   "metadata": {},
   "outputs": [],
   "source": [
    "import pandas as pd\n",
    "import matplotlib.pyplot as plt\n",
    "from sklearn import svm\n",
    "import seaborn as sns\n",
    "import numpy as np\n",
    "from sklearn.metrics import precision_recall_fscore_support\n",
    "from sklearn.model_selection import train_test_split\n",
    "\n",
    "# Normalizes a dataframes integer columns\n",
    "def normalize(df):\n",
    "\tcopy = df.copy()\n",
    "\tfor col in df.columns:\n",
    "\t\tif(df[col].dtypes == 'int64'):\n",
    "\t\t\tmax = df[col].max()\n",
    "\t\t\tmin = df[col].min()\n",
    "\t\t\tcopy[col] = (df[col]-min)/(max - min)\n",
    "\treturn copy\n"
   ]
  },
  {
   "cell_type": "code",
   "execution_count": null,
   "metadata": {},
   "outputs": [],
   "source": [
    "df = pd.read_csv('daveData/train.csv')\n",
    "df = df.dropna()\n",
    "df = df.drop(columns={'Unnamed: 0', 'id'})\n",
    "\n",
    "hotdf = pd.get_dummies(df)\n",
    "hotdf = hotdf.drop(columns={'satisfaction_neutral or dissatisfied'})\n",
    "\n",
    "# Normalize our data because it's kinda cringe\n",
    "hotdf = normalize(hotdf)\n",
    "hotdf.head()\n"
   ]
  },
  {
   "cell_type": "code",
   "execution_count": null,
   "metadata": {},
   "outputs": [],
   "source": [
    "\n",
    "corr_matrix = hotdf.corr()\n",
    "best_features = corr_matrix.index\n",
    "plt.figure(figsize=(25,25))\n",
    "hot = sns.heatmap(hotdf[best_features].corr(),annot=True,cmap=\"RdYlGn\")\n"
   ]
  },
  {
   "cell_type": "code",
   "execution_count": null,
   "metadata": {},
   "outputs": [],
   "source": [
    "y = hotdf['satisfaction_satisfied']\n",
    "x = hotdf[['Online boarding', 'Class_Business', 'Type of Travel_Business travel', 'Inflight entertainment', 'Seat comfort', 'On-board service']].copy()\n",
    "\n",
    "f1scores = []\n",
    "for i in range(10):\n",
    "\t# The dataset is crazy big, takes too long to train\n",
    "\tx_train, x_test, y_train, y_test = train_test_split(x, y, test_size=0.66)\n",
    "\n",
    "\tx_train, x_test, y_train, y_test = train_test_split(x_train, y_train, test_size=0.20)\n",
    "\n",
    "\tclf = svm.SVC(kernel='rbf', gamma=0.1)\n",
    "\tclf.fit(x_train, y_train)\n",
    "\tprint(\"Done Fitting the Model\")\n",
    "\ty_pred = clf.predict(x_test)\n",
    "\n",
    "\tp,r,f,s = precision_recall_fscore_support(y_test, y_pred, average='binary')\n",
    "\tf1scores.append(f)\n",
    "\n",
    "print(np.mean(f1scores))\n",
    "\n"
   ]
  }
 ],
 "metadata": {
  "kernelspec": {
   "display_name": "Python 3",
   "language": "python",
   "name": "python3"
  },
  "language_info": {
   "codemirror_mode": {
    "name": "ipython",
    "version": 3
   },
   "file_extension": ".py",
   "mimetype": "text/x-python",
   "name": "python",
   "nbconvert_exporter": "python",
   "pygments_lexer": "ipython3",
   "version": "3.10.1"
  },
  "orig_nbformat": 4
 },
 "nbformat": 4,
 "nbformat_minor": 2
}
